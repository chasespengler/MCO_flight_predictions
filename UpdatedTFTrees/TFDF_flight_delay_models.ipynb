{
 "cells": [
  {
   "cell_type": "code",
   "execution_count": null,
   "metadata": {},
   "outputs": [],
   "source": [
    "import tensorflow_decision_forests as tfdf\n",
    "import pandas as pd\n",
    "from sklearn.model_selection import train_test_split"
   ]
  },
  {
   "cell_type": "code",
   "execution_count": null,
   "metadata": {},
   "outputs": [],
   "source": [
    "all_mco_data = pd.read_excel('../all_mco_data.xlsx', header=0, sheet_name='all_MCO_data')\n",
    "all_mco_data.head()"
   ]
  },
  {
   "cell_type": "code",
   "execution_count": null,
   "metadata": {},
   "outputs": [],
   "source": [
    "day_of_week_col = tfdf.keras.FeatureUsage(name='DAY_OF_WEEK', semantic=tfdf.keras.FeatureSemantic.CATEGORICAL)\n",
    "month_col = tfdf.keras.FeatureUsage('MONTH', semantic=tfdf.keras.FeatureSemantic.CATEGORICAL)\n",
    "airline_col = tfdf.keras.FeatureUsage('AIRLINE', semantic=tfdf.keras.FeatureSemantic.CATEGORICAL)\n",
    "arrival_time_bucket_col = tfdf.keras.FeatureUsage('arrival_time_bucket', semantic=tfdf.keras.FeatureSemantic.Categorical)\n",
    "origin_col = tfdf.keras.FeatureUsage('ORIGIN_AIRPORT', semantic=tfdf.keras.FeatureSemantic.Categorical)\n",
    "\n",
    "all_features = [day_of_week_col, month_col, airline_col, arrival_time_bucket_col, origin_col]"
   ]
  },
  {
   "cell_type": "code",
   "execution_count": null,
   "metadata": {},
   "outputs": [],
   "source": [
    "labels = ['DAY_OF_WEEK', 'MONTH', 'AIRLINE', 'arrival_time_bucket', 'ORIGIN_AIRPORT']\n",
    "for label in labels:\n",
    "    classes = all_mco_data[label].unique().to_list()\n",
    "    all_mco_data[label] = all_mco_data[label].map(classes.index)\n",
    "\n",
    "train_ds_pd, test_ds_pd = train_test_split(all_mco_data, random_state=104, train_size=0.8, shuffle=True)\n",
    "train_ds = tfdf.keras.pd_dataframe_to_tf_dataset(train_ds_pd, label='int_arrival_delay')\n",
    "test_ds = tfdf.keras.pd_dataframe_to_tf_dataset(test_ds_pd, label='int_arrival_delay')"
   ]
  },
  {
   "cell_type": "code",
   "execution_count": null,
   "metadata": {},
   "outputs": [],
   "source": [
    "model_3 = tfdf.keras.GradientBoostedTreesModel(features=all_features, exclude_non_specified_features=True)\n",
    "model_3.compile( metrics=[\"accuracy\"])\n",
    "\n",
    "model_3.fit(train_ds, validation_data=test_ds)"
   ]
  }
 ],
 "metadata": {
  "kernelspec": {
   "display_name": ".venv",
   "language": "python",
   "name": "python3"
  },
  "language_info": {
   "codemirror_mode": {
    "name": "ipython",
    "version": 3
   },
   "file_extension": ".py",
   "mimetype": "text/x-python",
   "name": "python",
   "nbconvert_exporter": "python",
   "pygments_lexer": "ipython3",
   "version": "3.11.4"
  }
 },
 "nbformat": 4,
 "nbformat_minor": 2
}
